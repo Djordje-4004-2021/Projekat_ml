{
 "cells": [
  {
   "cell_type": "code",
   "execution_count": null,
   "id": "43c39c57-0627-4142-b8da-8dd89c3b3ea1",
   "metadata": {},
   "outputs": [],
   "source": [
    "import os\n",
    "from keras.preprocessing.image import img_to_array, load_img\n",
    "import matplotlib.pyplot as plt\n",
    "\n",
    "# path do direktoriuma\n",
    "train_dir='C:/Users/Djole/Desktop/slike/train'\n",
    "test_dir='C:/Users/Djole/Desktop/slike/test'\n",
    "\n",
    "# imena klasa\n",
    "klase = ['angry', 'disgust', 'fear', 'happy', 'neutral', 'sad', 'surprise']\n",
    "\n",
    "# uklanjanje slika na osnovu srednje vrednosti pixela slike\n",
    "def ukloni_slike_na_osnovu_proseka(direktorijum):\n",
    "    for klasa in klase:\n",
    "        putanja_klase = os.path.join(direktorijum, klasa)\n",
    "        for img_name in os.listdir(putanja_klase):\n",
    "            putanja_slike = os.path.join(putanja_klase, img_name)\n",
    "            img = img_to_array(load_img(putanja_slike, color_mode='grayscale'))\n",
    "            img=img/255.\n",
    "            sr_vr=img.mean()\n",
    "            if sr_vr <= 0.1 or sr_vr >= 0.9:\n",
    "                plt.imshow(img.squeeze(), cmap='gray')\n",
    "                plt.show()\n",
    "                print(sr_vr)\n",
    "                os.remove(putanja_slike)\n",
    "\n",
    "# poziv funkcije za uklanjanje slike nad trening i test skupom\n",
    "ukloni_slike_na_osnovu_proseka(direktorijum_train)\n",
    "ukloni_slike_na_osnovu_proseka(direktorijum_test)\n",
    "\n",
    "print(\"kraj\")\n"
   ]
  }
 ],
 "metadata": {
  "kernelspec": {
   "display_name": "Python 3 (ipykernel)",
   "language": "python",
   "name": "python3"
  },
  "language_info": {
   "codemirror_mode": {
    "name": "ipython",
    "version": 3
   },
   "file_extension": ".py",
   "mimetype": "text/x-python",
   "name": "python",
   "nbconvert_exporter": "python",
   "pygments_lexer": "ipython3",
   "version": "3.9.12"
  }
 },
 "nbformat": 4,
 "nbformat_minor": 5
}
